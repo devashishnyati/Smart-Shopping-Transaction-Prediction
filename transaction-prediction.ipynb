{
  "nbformat": 4,
  "nbformat_minor": 0,
  "metadata": {
    "colab": {
      "name": "ml.ipynb",
      "provenance": [],
      "machine_shape": "hm"
    },
    "kernelspec": {
      "name": "python3",
      "display_name": "Python 3"
    }
  },
  "cells": [
    {
      "cell_type": "code",
      "metadata": {
        "id": "t23sADeSOiKq",
        "colab_type": "code",
        "colab": {}
      },
      "source": [
        ""
      ],
      "execution_count": 0,
      "outputs": []
    },
    {
      "cell_type": "code",
      "metadata": {
        "id": "DWBh1cEPOlAs",
        "colab_type": "code",
        "outputId": "0556d687-42d4-4d73-acc3-3ff26da895b5",
        "colab": {
          "base_uri": "https://localhost:8080/",
          "height": 122
        }
      },
      "source": [
        "from google.colab import drive\n",
        "drive.mount('/content/drive')"
      ],
      "execution_count": 0,
      "outputs": [
        {
          "output_type": "stream",
          "text": [
            "Go to this URL in a browser: https://accounts.google.com/o/oauth2/auth?client_id=947318989803-6bn6qk8qdgf4n4g3pfee6491hc0brc4i.apps.googleusercontent.com&redirect_uri=urn%3aietf%3awg%3aoauth%3a2.0%3aoob&response_type=code&scope=email%20https%3a%2f%2fwww.googleapis.com%2fauth%2fdocs.test%20https%3a%2f%2fwww.googleapis.com%2fauth%2fdrive%20https%3a%2f%2fwww.googleapis.com%2fauth%2fdrive.photos.readonly%20https%3a%2f%2fwww.googleapis.com%2fauth%2fpeopleapi.readonly\n",
            "\n",
            "Enter your authorization code:\n",
            "··········\n",
            "Mounted at /content/drive\n"
          ],
          "name": "stdout"
        }
      ]
    },
    {
      "cell_type": "code",
      "metadata": {
        "id": "YjxW80kTZqTO",
        "colab_type": "code",
        "colab": {}
      },
      "source": [
        ""
      ],
      "execution_count": 0,
      "outputs": []
    },
    {
      "cell_type": "code",
      "metadata": {
        "id": "11wMaGuPOtUO",
        "colab_type": "code",
        "outputId": "b25f7299-7830-44c5-b8d1-29ab7278253f",
        "colab": {
          "base_uri": "https://localhost:8080/",
          "height": 51
        }
      },
      "source": [
        "%ls /content/drive/My Drive/instacart-market-basket-analysis"
      ],
      "execution_count": 0,
      "outputs": [
        {
          "output_type": "stream",
          "text": [
            "ls: cannot access '/content/drive/My': No such file or directory\n",
            "ls: cannot access 'Drive/instacart-market-basket-analysis': No such file or directory\n"
          ],
          "name": "stdout"
        }
      ]
    },
    {
      "cell_type": "code",
      "metadata": {
        "id": "qfA28VDdPGCO",
        "colab_type": "code",
        "outputId": "246c4547-4735-44cd-ffa5-aaf541e60232",
        "colab": {
          "base_uri": "https://localhost:8080/",
          "height": 51
        }
      },
      "source": [
        "%ls /content/drive/My\\ Drive/instacart-market-basket-analysis"
      ],
      "execution_count": 0,
      "outputs": [
        {
          "output_type": "stream",
          "text": [
            "aisles.csv       order_products__prior.csv  orders.csv    sample_submission.csv\n",
            "departments.csv  order_products__train.csv  products.csv\n"
          ],
          "name": "stdout"
        }
      ]
    },
    {
      "cell_type": "code",
      "metadata": {
        "id": "Y2pGrC6gPL_w",
        "colab_type": "code",
        "colab": {}
      },
      "source": [
        "import pandas as pd\n",
        "import numpy as np\n",
        "from collections import OrderedDict\n",
        "\n",
        "from sklearn.linear_model import LogisticRegression\n",
        "from sklearn.metrics import f1_score\n",
        "\n",
        "from sklearn import metrics\n",
        "from sklearn.metrics import f1_score\n",
        "from sklearn.preprocessing import MinMaxScaler"
      ],
      "execution_count": 0,
      "outputs": []
    },
    {
      "cell_type": "code",
      "metadata": {
        "id": "RyEmjbtJPRrb",
        "colab_type": "code",
        "colab": {}
      },
      "source": [
        "#Import the files\n",
        "aisles_df = pd.read_csv('/content/drive/My Drive/instacart-market-basket-analysis/aisles.csv')\n",
        "products_df = pd.read_csv('/content/drive/My Drive/instacart-market-basket-analysis/products.csv')\n",
        "orders_df = pd.read_csv('/content/drive/My Drive/instacart-market-basket-analysis/orders.csv')\n",
        "order_products_prior_df = pd.read_csv('/content/drive/My Drive/instacart-market-basket-analysis/order_products__prior.csv')\n",
        "departments_df = pd.read_csv('/content/drive/My Drive/instacart-market-basket-analysis/departments.csv')\n",
        "order_products_train_df = pd.read_csv('/content/drive/My Drive/instacart-market-basket-analysis/order_products__train.csv')"
      ],
      "execution_count": 0,
      "outputs": []
    },
    {
      "cell_type": "code",
      "metadata": {
        "id": "SSt4dEetPbSC",
        "colab_type": "code",
        "colab": {}
      },
      "source": [
        "order_products_train_df = order_products_train_df.merge(orders_df.drop('eval_set', axis=1), on='order_id')\n",
        "order_products_prior_df = order_products_prior_df.merge(orders_df.drop('eval_set', axis=1), on='order_id')\n",
        "\n",
        "user_product_df = (order_products_prior_df.groupby(['product_id','user_id'],as_index=False) \n",
        "                                          .agg({'order_id':'count'}) \n",
        "                                          .rename(columns={'order_id':'user_product_total_orders'}))\n",
        "\n",
        "train_ids = order_products_train_df['user_id'].unique() \n",
        "df_X = user_product_df[user_product_df['user_id'].isin(train_ids)]\n",
        "df_X.head()\n",
        "\n",
        "train_carts = (order_products_train_df.groupby('user_id',as_index=False)\n",
        "                                      .agg({'product_id':(lambda x: set(x))})\n",
        "                                      .rename(columns={'product_id':'latest_cart'}))\n",
        "\n",
        "df_X = df_X.merge(train_carts, on='user_id')\n",
        "df_X['in_cart'] = (df_X.apply(lambda row: row['product_id'] in row['latest_cart'], axis=1).astype(int))\n",
        "\n",
        "df_X.head()\n",
        "\n",
        "#Here I see class imbalance\n",
        "df_X['in_cart'].value_counts()\n",
        "\n",
        "## Product Features\n",
        "\n",
        "prod_features = ['product_total_orders','product_avg_add_to_cart_order']\n",
        "\n",
        "prod_features_df = (order_products_prior_df.groupby(['product_id'],as_index=False)\n",
        "                                           .agg(OrderedDict(\n",
        "                                                   [('order_id','nunique'),\n",
        "                                                    ('add_to_cart_order','mean')])))\n",
        "prod_features_df.columns = ['product_id'] + prod_features\n",
        "prod_features_df.head()\n",
        "\n",
        "df_X = df_X.merge(prod_features_df, on='product_id')\n",
        "\n",
        "#note that dropping rows with NA product_avg_days_since_prior_order is likely a naive choice \n",
        "df_X = df_X.dropna()\n",
        "df_X.head()\n",
        "\n",
        "## User Features\n",
        "\n",
        "user_features = ['user_total_orders','user_avg_cartsize','user_total_products','user_avg_days_since_prior_order']\n",
        "\n",
        "user_features_df = (order_products_prior_df.groupby(['user_id'],as_index=False)\n",
        "                                           .agg(OrderedDict(\n",
        "                                                   [('order_id',['nunique', (lambda x: x.shape[0] / x.nunique())]),\n",
        "                                                    ('product_id','nunique'),\n",
        "                                                    ('days_since_prior_order','mean')])))\n",
        "\n",
        "user_features_df.columns = ['user_id'] + user_features\n",
        "user_features_df.head()\n",
        "\n",
        "df_X = df_X.merge(user_features_df, on='user_id')\n",
        "df_X = df_X.dropna()\n",
        "df_X.head(1)\n",
        "\n",
        "## User-Product Features\n",
        "\n",
        "user_prod_features = ['user_product_avg_add_to_cart_order']\n",
        "\n",
        "user_prod_features_df = (order_products_prior_df.groupby(['product_id','user_id'],as_index=False) \\\n",
        "                                                .agg(OrderedDict(\n",
        "                                                     [('add_to_cart_order','mean')])))\n",
        "\n",
        "user_prod_features_df.columns = ['product_id','user_id'] + user_prod_features \n",
        "user_prod_features_df.head()\n",
        "\n",
        "df_X = df_X.merge(user_prod_features_df,on=['user_id','product_id'])\n",
        "df_X['user_product_order_freq'] = df_X['user_product_total_orders'] / df_X['user_total_orders'] \n",
        "df_X.head(1)\n",
        "\n",
        "# Adding more features and complicating the model\n",
        "\n",
        "## Product features\n",
        "\n",
        "#3 product features: average day of week when ordered, average day of the week, and average days since prior order\n",
        "prod_features = ['product_avg_order_dow', 'product_avg_order_hour_of_day', 'product_avg_days_since_prior_order']\n",
        "\n",
        "prod_features_df = (order_products_prior_df.groupby(['product_id'], as_index=False)\n",
        "                                     .agg(OrderedDict(\n",
        "                                     [('order_dow','mean'),\n",
        "                                      ('order_hour_of_day', 'mean'),\n",
        "                                      ('days_since_prior_order', 'mean')])))\n",
        "\n",
        "prod_features_df.columns = ['product_id'] + prod_features\n",
        "prod_features_df.head()\n",
        "\n",
        "df_X = df_X.merge(prod_features_df, on='product_id')\n",
        "df_X = df_X.dropna()\n",
        "df_X.head(1)\n",
        "\n",
        "## User Features\n",
        "\n",
        "user_features = ['user_avg_order_dow','user_avg_order_hour_of_day']\n",
        "\n",
        "user_features_df = (order_products_prior_df.groupby(['user_id'],as_index=False)\n",
        "                                           .agg(OrderedDict(\n",
        "                                                   [('order_dow','mean'),\n",
        "                                                    ('order_hour_of_day','mean')])))\n",
        "\n",
        "user_features_df.columns = ['user_id'] + user_features\n",
        "user_features_df.head()\n",
        "\n",
        "df_X = df_X.merge(user_features_df, on='user_id')\n",
        "df_X = df_X.dropna()\n",
        "df_X.head(1)\n",
        "\n",
        "## User-Product Features\n",
        "\n",
        "user_prod_features = ['user_product_avg_days_since_prior_order',\n",
        "                      'user_product_avg_order_dow',\n",
        "                      'user_product_avg_order_hour_of_day']\n",
        "\n",
        "user_prod_features_df = (order_products_prior_df.groupby(['product_id','user_id'],as_index=False) \\\n",
        "                                                .agg(OrderedDict(\n",
        "                                                     [('days_since_prior_order','mean'),\n",
        "                                                     ('order_dow','mean'),\n",
        "                                                     ('order_hour_of_day','mean')])))\n",
        "\n",
        "user_prod_features_df.columns = ['product_id','user_id'] + user_prod_features \n",
        "user_prod_features_df.head()\n",
        "\n",
        "df_X = df_X.merge(user_prod_features_df, on=['user_id', 'product_id'])\n",
        "df_X = df_X.dropna()\n",
        "df_X.head(1)\n",
        "\n",
        "## Deltas\n",
        "\n",
        "#Create delta columns to compare how users perform against averages\n",
        "df_X['product_total_orders_delta_per_user'] = df_X['product_total_orders'] - df_X['user_product_total_orders']\n",
        "\n",
        "df_X['product_avg_add_to_cart_order_delta_per_user'] = df_X['product_avg_add_to_cart_order'] - \\\n",
        "                                                            df_X['user_product_avg_add_to_cart_order']\n",
        "\n",
        "df_X['product_avg_order_dow_per_user'] = df_X['product_avg_order_dow'] - df_X['user_product_avg_order_dow']\n",
        "\n",
        "df_X['product_avg_order_hour_of_day_per_user'] = df_X['product_avg_order_hour_of_day'] - \\\n",
        "                                                            df_X['user_product_avg_order_hour_of_day']\n",
        "\n",
        "df_X['product_avg_days_since_prior_order_per_user'] = df_X['product_avg_days_since_prior_order'] - \\\n",
        "                                                            df_X['user_product_avg_days_since_prior_order']\n",
        "\n",
        "## Expand dummies for department names\n",
        "\n",
        "temp = products_df.merge(departments_df, on = 'department_id')\n",
        "temp = temp[['product_id', 'department']]\n",
        "temp.head()\n",
        "\n",
        "df_X = df_X.merge(temp, on = 'product_id')\n",
        "df_X = df_X.dropna()\n",
        "df_X = pd.concat([df_X, pd.get_dummies(df_X['department'])], axis=1)\n",
        "del df_X['department']"
      ],
      "execution_count": 0,
      "outputs": []
    },
    {
      "cell_type": "code",
      "metadata": {
        "id": "SU7jxpRbPm3n",
        "colab_type": "code",
        "outputId": "a99c8ffb-72a1-40ee-8a2a-a156eda5a94b",
        "colab": {
          "base_uri": "https://localhost:8080/",
          "height": 513
        }
      },
      "source": [
        "np.random.seed(29)\n",
        "total_users = df_X['user_id'].unique() \n",
        "test_users = np.random.choice(total_users, size=int(total_users.shape[0] * .30), replace=False)\n",
        "\n",
        "test_user_sets = []\n",
        "length = len(test_users)\n",
        "cv = 4\n",
        "\n",
        "for x in range (0, cv):\n",
        "    start = int(x/cv*length)\n",
        "    finish = int((x+1)/cv*length)\n",
        "    test_user_sets.append(test_users[start:finish])\n",
        "\n",
        "\n",
        "    \n",
        "cv_f1_scores = []\n",
        "cv_f1_scores_balanced = []\n",
        "cv_f1_scores_10fit = []\n",
        "\n",
        "for i,test_user_set in enumerate(test_user_sets):\n",
        "    print(len(test_user_sets) - i)\n",
        "    df_X_tr, df_X_te = df_X[~df_X['user_id'].isin(test_user_set)], df_X[df_X['user_id'].isin(test_user_set)] \n",
        "\n",
        "    y_tr, y_te = df_X_tr['in_cart'], df_X_te['in_cart']\n",
        "    X_tr, X_te = df_X_tr.drop(['product_id','user_id','latest_cart','in_cart'],axis=1), \\\n",
        "             df_X_te.drop(['product_id','user_id','latest_cart','in_cart'],axis=1), \\\n",
        "        \n",
        "    scaler = MinMaxScaler()\n",
        "    X_tr = pd.DataFrame(scaler.fit_transform(X_tr), columns=X_tr.columns)\n",
        "    X_te = pd.DataFrame(scaler.fit_transform(X_te), columns=X_te.columns)\n",
        "    \n",
        "    lr = LogisticRegression() \n",
        "    lr_balanced = LogisticRegression(class_weight='balanced')\n",
        "    lr_10x = LogisticRegression(class_weight={1 : 6, 0 : 1})\n",
        "    \n",
        "    lr.fit(X_tr, y_tr)\n",
        "    cv_f1_scores.append(f1_score(lr.predict(X_te), y_te))\n",
        "\n",
        "    lr_balanced.fit(X_tr, y_tr)\n",
        "    cv_f1_scores_balanced.append(f1_score(lr_balanced.predict(X_te), y_te))\n",
        "\n",
        "    lr_10x.fit(X_tr, y_tr)\n",
        "    cv_f1_scores_10fit.append(f1_score(lr_10x.predict(X_te), y_te))   \n",
        "\n"
      ],
      "execution_count": 7,
      "outputs": [
        {
          "output_type": "stream",
          "text": [
            "4\n"
          ],
          "name": "stdout"
        },
        {
          "output_type": "stream",
          "text": [
            "/usr/local/lib/python3.6/dist-packages/sklearn/linear_model/logistic.py:432: FutureWarning: Default solver will be changed to 'lbfgs' in 0.22. Specify a solver to silence this warning.\n",
            "  FutureWarning)\n",
            "/usr/local/lib/python3.6/dist-packages/sklearn/linear_model/logistic.py:432: FutureWarning: Default solver will be changed to 'lbfgs' in 0.22. Specify a solver to silence this warning.\n",
            "  FutureWarning)\n",
            "/usr/local/lib/python3.6/dist-packages/sklearn/linear_model/logistic.py:432: FutureWarning: Default solver will be changed to 'lbfgs' in 0.22. Specify a solver to silence this warning.\n",
            "  FutureWarning)\n"
          ],
          "name": "stderr"
        },
        {
          "output_type": "stream",
          "text": [
            "3\n"
          ],
          "name": "stdout"
        },
        {
          "output_type": "stream",
          "text": [
            "/usr/local/lib/python3.6/dist-packages/sklearn/linear_model/logistic.py:432: FutureWarning: Default solver will be changed to 'lbfgs' in 0.22. Specify a solver to silence this warning.\n",
            "  FutureWarning)\n",
            "/usr/local/lib/python3.6/dist-packages/sklearn/linear_model/logistic.py:432: FutureWarning: Default solver will be changed to 'lbfgs' in 0.22. Specify a solver to silence this warning.\n",
            "  FutureWarning)\n",
            "/usr/local/lib/python3.6/dist-packages/sklearn/linear_model/logistic.py:432: FutureWarning: Default solver will be changed to 'lbfgs' in 0.22. Specify a solver to silence this warning.\n",
            "  FutureWarning)\n"
          ],
          "name": "stderr"
        },
        {
          "output_type": "stream",
          "text": [
            "2\n"
          ],
          "name": "stdout"
        },
        {
          "output_type": "stream",
          "text": [
            "/usr/local/lib/python3.6/dist-packages/sklearn/linear_model/logistic.py:432: FutureWarning: Default solver will be changed to 'lbfgs' in 0.22. Specify a solver to silence this warning.\n",
            "  FutureWarning)\n",
            "/usr/local/lib/python3.6/dist-packages/sklearn/linear_model/logistic.py:432: FutureWarning: Default solver will be changed to 'lbfgs' in 0.22. Specify a solver to silence this warning.\n",
            "  FutureWarning)\n",
            "/usr/local/lib/python3.6/dist-packages/sklearn/linear_model/logistic.py:432: FutureWarning: Default solver will be changed to 'lbfgs' in 0.22. Specify a solver to silence this warning.\n",
            "  FutureWarning)\n"
          ],
          "name": "stderr"
        },
        {
          "output_type": "stream",
          "text": [
            "1\n"
          ],
          "name": "stdout"
        },
        {
          "output_type": "stream",
          "text": [
            "/usr/local/lib/python3.6/dist-packages/sklearn/linear_model/logistic.py:432: FutureWarning: Default solver will be changed to 'lbfgs' in 0.22. Specify a solver to silence this warning.\n",
            "  FutureWarning)\n",
            "/usr/local/lib/python3.6/dist-packages/sklearn/linear_model/logistic.py:432: FutureWarning: Default solver will be changed to 'lbfgs' in 0.22. Specify a solver to silence this warning.\n",
            "  FutureWarning)\n",
            "/usr/local/lib/python3.6/dist-packages/sklearn/linear_model/logistic.py:432: FutureWarning: Default solver will be changed to 'lbfgs' in 0.22. Specify a solver to silence this warning.\n",
            "  FutureWarning)\n"
          ],
          "name": "stderr"
        }
      ]
    },
    {
      "cell_type": "code",
      "metadata": {
        "id": "GsX6oarTZrd-",
        "colab_type": "code",
        "colab": {
          "base_uri": "https://localhost:8080/",
          "height": 139
        },
        "outputId": "e7c65669-8600-42fb-8522-7438f92f4d73"
      },
      "source": [
        "print(np.mean(cv_f1_scores))\n",
        "print(np.mean(cv_f1_scores_balanced))\n",
        "print(np.mean(cv_f1_scores_10fit))\n",
        "\n",
        "df_X_tr, df_X_te = df_X[~df_X['user_id'].isin(test_users)], df_X[df_X['user_id'].isin(test_users)]\n",
        "\n",
        "y_tr, y_te = df_X_tr['in_cart'], df_X_te['in_cart']\n",
        "X_tr, X_te = df_X_tr.drop(['product_id','user_id','latest_cart','in_cart'],axis=1), \\\n",
        "             df_X_te.drop(['product_id','user_id','latest_cart','in_cart'],axis=1), \\\n",
        "\n",
        "lr_10x = LogisticRegression(class_weight={1 : 6, 0 : 1})\n",
        "lr_10x.fit(X_tr, y_tr)\n",
        "f1_score(lr_10x.predict(X_te), y_te)"
      ],
      "execution_count": 8,
      "outputs": [
        {
          "output_type": "stream",
          "text": [
            "0.21063384376903552\n",
            "0.371424459223619\n",
            "0.38750152873417576\n"
          ],
          "name": "stdout"
        },
        {
          "output_type": "stream",
          "text": [
            "/usr/local/lib/python3.6/dist-packages/sklearn/linear_model/logistic.py:432: FutureWarning: Default solver will be changed to 'lbfgs' in 0.22. Specify a solver to silence this warning.\n",
            "  FutureWarning)\n"
          ],
          "name": "stderr"
        },
        {
          "output_type": "execute_result",
          "data": {
            "text/plain": [
              "0.379523129033209"
            ]
          },
          "metadata": {
            "tags": []
          },
          "execution_count": 8
        }
      ]
    },
    {
      "cell_type": "code",
      "metadata": {
        "id": "Ceoqs9ggZr99",
        "colab_type": "code",
        "colab": {
          "base_uri": "https://localhost:8080/",
          "height": 241
        },
        "outputId": "5d7b4c32-07ff-4f20-d90a-0989610c8fff"
      },
      "source": [
        "np.random.seed(43)\n",
        "total_users = df_X['user_id'].unique() \n",
        "test_users = np.random.choice(total_users, size=int(total_users.shape[0] * .20), replace=False)\n",
        "\n",
        "df_X_tr, df_X_te = df_X[~df_X['user_id'].isin(test_users)], df_X[df_X['user_id'].isin(test_users)]\n",
        "                        \n",
        "val_index = np.random.choice(df_X_tr.index, int(len(df_X_tr.index)/4), replace=False)\n",
        "df_X_val = df_X.loc[val_index]\n",
        "df_X_tr = df_X.loc[~df_X.index.isin(val_index)]                        \n",
        "\n",
        "y_tr, y_val, y_te = df_X_tr['in_cart'], df_X_val['in_cart'], df_X_te['in_cart']\n",
        "X_tr, X_val, X_te = df_X_tr.drop(['product_id','user_id','latest_cart','in_cart'],axis=1), \\\n",
        "             df_X_val.drop(['product_id','user_id','latest_cart','in_cart'],axis=1), \\\n",
        "             df_X_te.drop(['product_id','user_id','latest_cart','in_cart'],axis=1), \\\n",
        "        \n",
        "scaler = MinMaxScaler()\n",
        "X_tr = pd.DataFrame(scaler.fit_transform(X_tr), columns=X_tr.columns)\n",
        "X_val = pd.DataFrame(scaler.fit_transform(X_val), columns=X_val.columns)\n",
        "X_te = pd.DataFrame(scaler.fit_transform(X_te), columns=X_te.columns)\n",
        "    \n",
        "lr = LogisticRegression(C=10000000) \n",
        "lr_balanced = LogisticRegression(class_weight='balanced', C=10000000)\n",
        "lr_10x = LogisticRegression(class_weight={1 : 6, 0 : 1}, C=10000000)\n",
        "    \n",
        "lr.fit(X_tr, y_tr)\n",
        "cv_f1_score = f1_score(lr.predict(X_val), y_val)\n",
        "\n",
        "lr_balanced.fit(X_tr, y_tr)\n",
        "cv_f1_score_balanced = f1_score(lr_balanced.predict(X_val), y_val)\n",
        "\n",
        "lr_10x.fit(X_tr, y_tr)\n",
        "cv_f1_score_lr_10x = f1_score(lr_10x.predict(X_val), y_val)  \n",
        "\n",
        "print(cv_f1_score)\n",
        "print(cv_f1_score_balanced)\n",
        "print(cv_f1_score_lr_10x)\n",
        "\n",
        "df_X_tr, df_X_te = df_X[~df_X['user_id'].isin(test_users)], df_X[df_X['user_id'].isin(test_users)]\n",
        "\n",
        "y_tr, y_te = df_X_tr['in_cart'], df_X_te['in_cart']\n",
        "X_tr, X_te = df_X_tr.drop(['product_id','user_id','latest_cart','in_cart'],axis=1), \\\n",
        "             df_X_te.drop(['product_id','user_id','latest_cart','in_cart'],axis=1), \\\n",
        "\n",
        "lr_10x = LogisticRegression(class_weight={1 : 6, 0 : 1}, C=10000000)\n",
        "lr_10x.fit(X_tr, y_tr)\n",
        "f1_score(lr_10x.predict(X_te), y_te)"
      ],
      "execution_count": 9,
      "outputs": [
        {
          "output_type": "stream",
          "text": [
            "/usr/local/lib/python3.6/dist-packages/sklearn/linear_model/logistic.py:432: FutureWarning: Default solver will be changed to 'lbfgs' in 0.22. Specify a solver to silence this warning.\n",
            "  FutureWarning)\n",
            "/usr/local/lib/python3.6/dist-packages/sklearn/linear_model/logistic.py:432: FutureWarning: Default solver will be changed to 'lbfgs' in 0.22. Specify a solver to silence this warning.\n",
            "  FutureWarning)\n",
            "/usr/local/lib/python3.6/dist-packages/sklearn/linear_model/logistic.py:432: FutureWarning: Default solver will be changed to 'lbfgs' in 0.22. Specify a solver to silence this warning.\n",
            "  FutureWarning)\n"
          ],
          "name": "stderr"
        },
        {
          "output_type": "stream",
          "text": [
            "0.20743518618958331\n",
            "0.3759368172100272\n",
            "0.3940864263662783\n"
          ],
          "name": "stdout"
        },
        {
          "output_type": "stream",
          "text": [
            "/usr/local/lib/python3.6/dist-packages/sklearn/linear_model/logistic.py:432: FutureWarning: Default solver will be changed to 'lbfgs' in 0.22. Specify a solver to silence this warning.\n",
            "  FutureWarning)\n"
          ],
          "name": "stderr"
        },
        {
          "output_type": "execute_result",
          "data": {
            "text/plain": [
              "0.3796563023139609"
            ]
          },
          "metadata": {
            "tags": []
          },
          "execution_count": 9
        }
      ]
    },
    {
      "cell_type": "code",
      "metadata": {
        "id": "6krt9BFNZ8PT",
        "colab_type": "code",
        "colab": {
          "base_uri": "https://localhost:8080/",
          "height": 1000
        },
        "outputId": "04bad988-ad18-4ff6-ea26-9039a80a6d63"
      },
      "source": [
        "coefficients = pd.DataFrame(lr_10x.coef_, columns = X_tr.columns)\n",
        "coefficients = np.exp(coefficients)\n",
        "coefficients.T"
      ],
      "execution_count": 10,
      "outputs": [
        {
          "output_type": "execute_result",
          "data": {
            "text/html": [
              "<div>\n",
              "<style scoped>\n",
              "    .dataframe tbody tr th:only-of-type {\n",
              "        vertical-align: middle;\n",
              "    }\n",
              "\n",
              "    .dataframe tbody tr th {\n",
              "        vertical-align: top;\n",
              "    }\n",
              "\n",
              "    .dataframe thead th {\n",
              "        text-align: right;\n",
              "    }\n",
              "</style>\n",
              "<table border=\"1\" class=\"dataframe\">\n",
              "  <thead>\n",
              "    <tr style=\"text-align: right;\">\n",
              "      <th></th>\n",
              "      <th>0</th>\n",
              "    </tr>\n",
              "  </thead>\n",
              "  <tbody>\n",
              "    <tr>\n",
              "      <th>user_product_total_orders</th>\n",
              "      <td>1.158247</td>\n",
              "    </tr>\n",
              "    <tr>\n",
              "      <th>product_total_orders</th>\n",
              "      <td>1.076220</td>\n",
              "    </tr>\n",
              "    <tr>\n",
              "      <th>product_avg_add_to_cart_order</th>\n",
              "      <td>0.914869</td>\n",
              "    </tr>\n",
              "    <tr>\n",
              "      <th>user_total_orders</th>\n",
              "      <td>0.983152</td>\n",
              "    </tr>\n",
              "    <tr>\n",
              "      <th>user_avg_cartsize</th>\n",
              "      <td>1.060262</td>\n",
              "    </tr>\n",
              "    <tr>\n",
              "      <th>user_total_products</th>\n",
              "      <td>0.993878</td>\n",
              "    </tr>\n",
              "    <tr>\n",
              "      <th>user_avg_days_since_prior_order</th>\n",
              "      <td>0.993802</td>\n",
              "    </tr>\n",
              "    <tr>\n",
              "      <th>user_product_avg_add_to_cart_order</th>\n",
              "      <td>0.949779</td>\n",
              "    </tr>\n",
              "    <tr>\n",
              "      <th>user_product_order_freq</th>\n",
              "      <td>1.053228</td>\n",
              "    </tr>\n",
              "    <tr>\n",
              "      <th>product_avg_order_dow</th>\n",
              "      <td>0.994652</td>\n",
              "    </tr>\n",
              "    <tr>\n",
              "      <th>product_avg_order_hour_of_day</th>\n",
              "      <td>1.011900</td>\n",
              "    </tr>\n",
              "    <tr>\n",
              "      <th>product_avg_days_since_prior_order</th>\n",
              "      <td>0.995056</td>\n",
              "    </tr>\n",
              "    <tr>\n",
              "      <th>user_avg_order_dow</th>\n",
              "      <td>0.997554</td>\n",
              "    </tr>\n",
              "    <tr>\n",
              "      <th>user_avg_order_hour_of_day</th>\n",
              "      <td>1.012921</td>\n",
              "    </tr>\n",
              "    <tr>\n",
              "      <th>user_product_avg_days_since_prior_order</th>\n",
              "      <td>1.003411</td>\n",
              "    </tr>\n",
              "    <tr>\n",
              "      <th>user_product_avg_order_dow</th>\n",
              "      <td>0.994383</td>\n",
              "    </tr>\n",
              "    <tr>\n",
              "      <th>user_product_avg_order_hour_of_day</th>\n",
              "      <td>1.002687</td>\n",
              "    </tr>\n",
              "    <tr>\n",
              "      <th>product_total_orders_delta_per_user</th>\n",
              "      <td>0.929180</td>\n",
              "    </tr>\n",
              "    <tr>\n",
              "      <th>product_avg_add_to_cart_order_delta_per_user</th>\n",
              "      <td>0.963244</td>\n",
              "    </tr>\n",
              "    <tr>\n",
              "      <th>product_avg_order_dow_per_user</th>\n",
              "      <td>1.000271</td>\n",
              "    </tr>\n",
              "    <tr>\n",
              "      <th>product_avg_order_hour_of_day_per_user</th>\n",
              "      <td>1.009188</td>\n",
              "    </tr>\n",
              "    <tr>\n",
              "      <th>product_avg_days_since_prior_order_per_user</th>\n",
              "      <td>0.991673</td>\n",
              "    </tr>\n",
              "    <tr>\n",
              "      <th>alcohol</th>\n",
              "      <td>0.998688</td>\n",
              "    </tr>\n",
              "    <tr>\n",
              "      <th>babies</th>\n",
              "      <td>1.000300</td>\n",
              "    </tr>\n",
              "    <tr>\n",
              "      <th>bakery</th>\n",
              "      <td>1.003334</td>\n",
              "    </tr>\n",
              "    <tr>\n",
              "      <th>beverages</th>\n",
              "      <td>1.007896</td>\n",
              "    </tr>\n",
              "    <tr>\n",
              "      <th>breakfast</th>\n",
              "      <td>1.000080</td>\n",
              "    </tr>\n",
              "    <tr>\n",
              "      <th>bulk</th>\n",
              "      <td>0.999987</td>\n",
              "    </tr>\n",
              "    <tr>\n",
              "      <th>canned goods</th>\n",
              "      <td>0.994961</td>\n",
              "    </tr>\n",
              "    <tr>\n",
              "      <th>dairy eggs</th>\n",
              "      <td>1.018535</td>\n",
              "    </tr>\n",
              "    <tr>\n",
              "      <th>deli</th>\n",
              "      <td>1.002710</td>\n",
              "    </tr>\n",
              "    <tr>\n",
              "      <th>dry goods pasta</th>\n",
              "      <td>0.997371</td>\n",
              "    </tr>\n",
              "    <tr>\n",
              "      <th>frozen</th>\n",
              "      <td>1.000536</td>\n",
              "    </tr>\n",
              "    <tr>\n",
              "      <th>household</th>\n",
              "      <td>0.991749</td>\n",
              "    </tr>\n",
              "    <tr>\n",
              "      <th>international</th>\n",
              "      <td>0.996706</td>\n",
              "    </tr>\n",
              "    <tr>\n",
              "      <th>meat seafood</th>\n",
              "      <td>1.000477</td>\n",
              "    </tr>\n",
              "    <tr>\n",
              "      <th>missing</th>\n",
              "      <td>1.002115</td>\n",
              "    </tr>\n",
              "    <tr>\n",
              "      <th>other</th>\n",
              "      <td>0.999605</td>\n",
              "    </tr>\n",
              "    <tr>\n",
              "      <th>pantry</th>\n",
              "      <td>0.971041</td>\n",
              "    </tr>\n",
              "    <tr>\n",
              "      <th>personal care</th>\n",
              "      <td>0.991923</td>\n",
              "    </tr>\n",
              "    <tr>\n",
              "      <th>pets</th>\n",
              "      <td>1.000513</td>\n",
              "    </tr>\n",
              "    <tr>\n",
              "      <th>produce</th>\n",
              "      <td>1.018881</td>\n",
              "    </tr>\n",
              "    <tr>\n",
              "      <th>snacks</th>\n",
              "      <td>1.004950</td>\n",
              "    </tr>\n",
              "  </tbody>\n",
              "</table>\n",
              "</div>"
            ],
            "text/plain": [
              "                                                     0\n",
              "user_product_total_orders                     1.158247\n",
              "product_total_orders                          1.076220\n",
              "product_avg_add_to_cart_order                 0.914869\n",
              "user_total_orders                             0.983152\n",
              "user_avg_cartsize                             1.060262\n",
              "user_total_products                           0.993878\n",
              "user_avg_days_since_prior_order               0.993802\n",
              "user_product_avg_add_to_cart_order            0.949779\n",
              "user_product_order_freq                       1.053228\n",
              "product_avg_order_dow                         0.994652\n",
              "product_avg_order_hour_of_day                 1.011900\n",
              "product_avg_days_since_prior_order            0.995056\n",
              "user_avg_order_dow                            0.997554\n",
              "user_avg_order_hour_of_day                    1.012921\n",
              "user_product_avg_days_since_prior_order       1.003411\n",
              "user_product_avg_order_dow                    0.994383\n",
              "user_product_avg_order_hour_of_day            1.002687\n",
              "product_total_orders_delta_per_user           0.929180\n",
              "product_avg_add_to_cart_order_delta_per_user  0.963244\n",
              "product_avg_order_dow_per_user                1.000271\n",
              "product_avg_order_hour_of_day_per_user        1.009188\n",
              "product_avg_days_since_prior_order_per_user   0.991673\n",
              "alcohol                                       0.998688\n",
              "babies                                        1.000300\n",
              "bakery                                        1.003334\n",
              "beverages                                     1.007896\n",
              "breakfast                                     1.000080\n",
              "bulk                                          0.999987\n",
              "canned goods                                  0.994961\n",
              "dairy eggs                                    1.018535\n",
              "deli                                          1.002710\n",
              "dry goods pasta                               0.997371\n",
              "frozen                                        1.000536\n",
              "household                                     0.991749\n",
              "international                                 0.996706\n",
              "meat seafood                                  1.000477\n",
              "missing                                       1.002115\n",
              "other                                         0.999605\n",
              "pantry                                        0.971041\n",
              "personal care                                 0.991923\n",
              "pets                                          1.000513\n",
              "produce                                       1.018881\n",
              "snacks                                        1.004950"
            ]
          },
          "metadata": {
            "tags": []
          },
          "execution_count": 10
        }
      ]
    },
    {
      "cell_type": "code",
      "metadata": {
        "id": "gzvgFNTPbk60",
        "colab_type": "code",
        "colab": {
          "base_uri": "https://localhost:8080/",
          "height": 447
        },
        "outputId": "beae61f1-c9f7-4089-a621-dbc6df50b28e"
      },
      "source": [
        "from sklearn.metrics import confusion_matrix\n",
        "import seaborn as sns\n",
        "import matplotlib.pyplot as plt\n",
        "%matplotlib inline\n",
        "plt.style.use('fivethirtyeight')\n",
        "\n",
        "def plot_confusion_matrix(cm,title='Confusion matrix', cmap=plt.cm.Reds):\n",
        "    plt.imshow(cm, interpolation='nearest',cmap=cmap)\n",
        "    plt.title(title)\n",
        "    plt.colorbar()\n",
        "    plt.tight_layout()\n",
        "    plt.ylabel('True label')\n",
        "    plt.xlabel('Predicted label')\n",
        "\n",
        "#y_tr=np.ravel(y_tr)\n",
        "\n",
        "train_acc=lr_10x.score(X_tr, y_tr)\n",
        "test_acc=lr_10x.score(X_te, y_te)\n",
        "print(\"Training Data Accuracy: %0.2f\" %(train_acc))\n",
        "print(\"Test Data Accuracy:     %0.2f\" %(test_acc))\n",
        "    \n",
        "y_true = y_te\n",
        "y_pred = lr_10x.predict(X_te)\n",
        "\n",
        "\n",
        "conf = confusion_matrix(y_true, y_pred)\n",
        "print(conf)\n",
        "\n",
        "print ('\\n')\n",
        "print (\"Precision:              %0.2f\" %(conf[1, 1] / (conf[1, 1] + conf[0, 1])))\n",
        "print (\"Recall:                 %0.2f\"% (conf[1, 1] / (conf[1, 1] + conf[1, 0])))\n",
        "    \n",
        "cm=confusion_matrix(y_true, y_pred, labels=[0, 1])\n",
        "    \n",
        "plt.figure()\n",
        "plot_confusion_matrix(cm)"
      ],
      "execution_count": 11,
      "outputs": [
        {
          "output_type": "stream",
          "text": [
            "Training Data Accuracy: 0.83\n",
            "Test Data Accuracy:     0.83\n",
            "[[1251574  190776]\n",
            " [  78625   82438]]\n",
            "\n",
            "\n",
            "Precision:              0.30\n",
            "Recall:                 0.51\n"
          ],
          "name": "stdout"
        },
        {
          "output_type": "display_data",
          "data": {
            "image/png": "[encoded data removed]",
            "text/plain": [
              "<Figure size 432x288 with 2 Axes>"
            ]
          },
          "metadata": {
            "tags": []
          }
        }
      ]
    },
    {
      "cell_type": "code",
      "metadata": {
        "id": "_OY0enMKbskH",
        "colab_type": "code",
        "colab": {
          "base_uri": "https://localhost:8080/",
          "height": 591
        },
        "outputId": "4ab89b0f-5533-47fa-d2f2-ec2748ee157b"
      },
      "source": [
        "from sklearn.metrics import roc_curve, auc\n",
        "\n",
        "y_score = lr_10x.predict_proba(X_te)[:,1]\n",
        "\n",
        "fpr, tpr,_ = roc_curve(y_te, y_score)\n",
        "roc_auc = auc(fpr, tpr)\n",
        "\n",
        "plt.figure()\n",
        "# Plotting our Baseline..\n",
        "plt.plot([0,1],[0,1], linestyle='--', color = 'black')\n",
        "plt.plot(fpr, tpr, color = 'green')\n",
        "plt.xlabel('False Positive Rate')\n",
        "plt.ylabel('True Positive Rate')\n",
        "plt.gca().set_aspect('equal', adjustable='box')"
      ],
      "execution_count": 12,
      "outputs": [
        {
          "output_type": "display_data",
          "data": {
            "image/png": "[encoded data removed]",
            "text/plain": [
              "<Figure size 432x288 with 1 Axes>"
            ]
          },
          "metadata": {
            "tags": []
          }
        },
        {
          "output_type": "display_data",
          "data": {
            "image/png": "[encoded data removed]",
            "text/plain": [
              "<Figure size 432x288 with 1 Axes>"
            ]
          },
          "metadata": {
            "tags": []
          }
        }
      ]
    },
    {
      "cell_type": "code",
      "metadata": {
        "id": "ocbGoMCRcAB4",
        "colab_type": "code",
        "colab": {
          "base_uri": "https://localhost:8080/",
          "height": 204
        },
        "outputId": "f4645080-8a8a-49dd-a934-2235ff9a4a2c"
      },
      "source": [
        "from sklearn.naive_bayes import GaussianNB\n",
        "cv_f1_scores_nb = []\n",
        "cv_f1_scores_balanced_nb = []\n",
        "cv_f1_scores_10fit_nb = []\n",
        "\n",
        "for i,test_user_set in enumerate(test_user_sets):\n",
        "    print(len(test_user_sets) - i)\n",
        "    df_X_tr, df_X_te = df_X[~df_X['user_id'].isin(test_user_set)], df_X[df_X['user_id'].isin(test_user_set)] \n",
        "\n",
        "    y_tr, y_te = df_X_tr['in_cart'], df_X_te['in_cart']\n",
        "    X_tr, X_te = df_X_tr.drop(['product_id','user_id','latest_cart','in_cart'],axis=1), \\\n",
        "             df_X_te.drop(['product_id','user_id','latest_cart','in_cart'],axis=1), \\\n",
        "        \n",
        "    scaler = MinMaxScaler()\n",
        "    X_tr = pd.DataFrame(scaler.fit_transform(X_tr), columns=X_tr.columns)\n",
        "    X_te = pd.DataFrame(scaler.fit_transform(X_te), columns=X_te.columns)\n",
        "    \n",
        "    gnb = GaussianNB()\n",
        "    \n",
        "    gnb.fit(X_tr, y_tr)\n",
        "    cv_f1_scores_nb.append(f1_score(gnb.predict(X_te), y_te))\n",
        "\n",
        "print(np.mean(cv_f1_scores_nb))\n",
        "\n",
        "\n",
        "df_X_tr, df_X_te = df_X[~df_X['user_id'].isin(test_users)], df_X[df_X['user_id'].isin(test_users)]\n",
        "\n",
        "y_tr, y_te = df_X_tr['in_cart'], df_X_te['in_cart']\n",
        "X_tr, X_te = df_X_tr.drop(['product_id','user_id','latest_cart','in_cart'],axis=1), \\\n",
        "             df_X_te.drop(['product_id','user_id','latest_cart','in_cart'],axis=1), \\\n",
        "\n",
        "gnb = GaussianNB()\n",
        "gnb.fit(X_tr, y_tr)\n",
        "f1_score(gnb.predict(X_te), y_te)\n"
      ],
      "execution_count": 13,
      "outputs": [
        {
          "output_type": "stream",
          "text": [
            "4\n",
            "4\n",
            "3\n",
            "3\n",
            "2\n",
            "2\n",
            "1\n",
            "1\n",
            "0.310370978484145\n",
            "0.310370978484145\n"
          ],
          "name": "stdout"
        },
        {
          "output_type": "execute_result",
          "data": {
            "text/plain": [
              "0.24139726453217283"
            ]
          },
          "metadata": {
            "tags": []
          },
          "execution_count": 13
        },
        {
          "output_type": "execute_result",
          "data": {
            "text/plain": [
              "0.24139726453217283"
            ]
          },
          "metadata": {
            "tags": []
          },
          "execution_count": 13
        }
      ]
    },
    {
      "cell_type": "code",
      "metadata": {
        "id": "b9KBSbdqd9p1",
        "colab_type": "code",
        "colab": {
          "base_uri": "https://localhost:8080/",
          "height": 156
        },
        "outputId": "c87ffe81-901e-461a-977d-891377db4057"
      },
      "source": [
        "gnb = GaussianNB() \n",
        "    \n",
        "gnb.fit(X_tr, y_tr)\n",
        "cv_f1_score_gnb = f1_score(gnb.predict(X_val), y_val)\n",
        "\n",
        "\n",
        "\n",
        "print(cv_f1_score_gnb)\n",
        "\n",
        "df_X_tr, df_X_te = df_X[~df_X['user_id'].isin(test_users)], df_X[df_X['user_id'].isin(test_users)]\n",
        "\n",
        "y_tr, y_te = df_X_tr['in_cart'], df_X_te['in_cart']\n",
        "X_tr, X_te = df_X_tr.drop(['product_id','user_id','latest_cart','in_cart'],axis=1), \\\n",
        "             df_X_te.drop(['product_id','user_id','latest_cart','in_cart'],axis=1), \\\n",
        "\n",
        "gnb = GaussianNB() \n",
        "gnb.fit(X_tr, y_tr)\n",
        "f1_score(gnb.predict(X_te), y_te)"
      ],
      "execution_count": 14,
      "outputs": [
        {
          "output_type": "stream",
          "text": [
            "/usr/local/lib/python3.6/dist-packages/sklearn/metrics/classification.py:1439: UndefinedMetricWarning: F-score is ill-defined and being set to 0.0 due to no true samples.\n",
            "  'recall', 'true', average, warn_for)\n",
            "/usr/local/lib/python3.6/dist-packages/sklearn/metrics/classification.py:1439: UndefinedMetricWarning: F-score is ill-defined and being set to 0.0 due to no true samples.\n",
            "  'recall', 'true', average, warn_for)\n"
          ],
          "name": "stderr"
        },
        {
          "output_type": "stream",
          "text": [
            "0.0\n",
            "0.0\n"
          ],
          "name": "stdout"
        },
        {
          "output_type": "execute_result",
          "data": {
            "text/plain": [
              "0.24139726453217283"
            ]
          },
          "metadata": {
            "tags": []
          },
          "execution_count": 14
        },
        {
          "output_type": "execute_result",
          "data": {
            "text/plain": [
              "0.24139726453217283"
            ]
          },
          "metadata": {
            "tags": []
          },
          "execution_count": 14
        }
      ]
    },
    {
      "cell_type": "code",
      "metadata": {
        "id": "J-cG0Rp8iJbv",
        "colab_type": "code",
        "colab": {
          "base_uri": "https://localhost:8080/",
          "height": 34
        },
        "outputId": "172fb428-9ea4-4dbb-f085-5ca2d949afd0"
      },
      "source": [
        "print(f1_score(gnb.predict(X_te), y_te))"
      ],
      "execution_count": 15,
      "outputs": [
        {
          "output_type": "stream",
          "text": [
            "0.24139726453217283\n"
          ],
          "name": "stdout"
        }
      ]
    },
    {
      "cell_type": "code",
      "metadata": {
        "id": "54ImCFIs71dZ",
        "colab_type": "code",
        "colab": {}
      },
      "source": [
        "import pickle"
      ],
      "execution_count": 0,
      "outputs": []
    },
    {
      "cell_type": "code",
      "metadata": {
        "id": "xGda_ntX8CM0",
        "colab_type": "code",
        "colab": {}
      },
      "source": [
        "pickle.dump(lr, open('lr', 'wb'))"
      ],
      "execution_count": 0,
      "outputs": []
    },
    {
      "cell_type": "code",
      "metadata": {
        "id": "0eEDHOJT8XFz",
        "colab_type": "code",
        "colab": {}
      },
      "source": [
        "pickle.dump(lr_balanced, open('lr_balanced', 'wb'))"
      ],
      "execution_count": 0,
      "outputs": []
    },
    {
      "cell_type": "code",
      "metadata": {
        "id": "Qwa_GYyc8i8w",
        "colab_type": "code",
        "colab": {}
      },
      "source": [
        "pickle.dump(lr_10x, open('lr_10x', 'wb'))"
      ],
      "execution_count": 0,
      "outputs": []
    },
    {
      "cell_type": "code",
      "metadata": {
        "id": "tVESVV7g8nsA",
        "colab_type": "code",
        "colab": {}
      },
      "source": [
        "pickle.dump(gnb, open('gnb', 'wb'))"
      ],
      "execution_count": 0,
      "outputs": []
    },
    {
      "cell_type": "code",
      "metadata": {
        "id": "xNPb3FpN8sl-",
        "colab_type": "code",
        "colab": {}
      },
      "source": [
        ""
      ],
      "execution_count": 0,
      "outputs": []
    }
  ]
}